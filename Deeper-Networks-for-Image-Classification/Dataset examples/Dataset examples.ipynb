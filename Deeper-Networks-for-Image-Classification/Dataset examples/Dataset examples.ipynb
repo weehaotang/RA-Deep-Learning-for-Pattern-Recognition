{
 "cells": [
  {
   "cell_type": "markdown",
   "metadata": {
    "id": "UMDZQpdeQlDi"
   },
   "source": [
    "## MNIST"
   ]
  },
  {
   "cell_type": "markdown",
   "metadata": {
    "id": "x6I_uMt_NTDd"
   },
   "source": [
    "Download MNIST, extract some examples, save"
   ]
  },
  {
   "cell_type": "code",
   "execution_count": null,
   "metadata": {
    "ExecuteTime": {
     "end_time": "2021-05-23T19:27:03.131412Z",
     "start_time": "2021-05-23T19:27:02.976Z"
    },
    "colab": {
     "base_uri": "https://localhost:8080/"
    },
    "executionInfo": {
     "elapsed": 3486,
     "status": "ok",
     "timestamp": 1619004983665,
     "user": {
      "displayName": "Maciej Tarsa",
      "photoUrl": "https://lh3.googleusercontent.com/a-/AOh14GhWk0j9fFSgnb3uzugIZcEXR3uc9Ze0OcOZznFdZA4=s64",
      "userId": "17023749594418169578"
     },
     "user_tz": -60
    },
    "id": "3HCxUiDPNbWZ",
    "outputId": "a0b981c2-06bb-4755-dac0-a8f206a3dcdf"
   },
   "outputs": [],
   "source": [
    "from tensorflow.keras.datasets import mnist\n",
    "(X_train, Y_train), (X_test, Y_test) = mnist.load_data()"
   ]
  },
  {
   "cell_type": "code",
   "execution_count": null,
   "metadata": {
    "ExecuteTime": {
     "end_time": "2021-05-23T19:27:03.132760Z",
     "start_time": "2021-05-23T19:27:02.978Z"
    },
    "executionInfo": {
     "elapsed": 1097,
     "status": "ok",
     "timestamp": 1619005029010,
     "user": {
      "displayName": "Maciej Tarsa",
      "photoUrl": "https://lh3.googleusercontent.com/a-/AOh14GhWk0j9fFSgnb3uzugIZcEXR3uc9Ze0OcOZznFdZA4=s64",
      "userId": "17023749594418169578"
     },
     "user_tz": -60
    },
    "id": "OhlAwU5NN2tl"
   },
   "outputs": [],
   "source": [
    "import matplotlib.pyplot as plt\n",
    "%matplotlib inline"
   ]
  },
  {
   "cell_type": "code",
   "execution_count": null,
   "metadata": {
    "ExecuteTime": {
     "end_time": "2021-05-23T19:27:03.134371Z",
     "start_time": "2021-05-23T19:27:02.979Z"
    },
    "colab": {
     "base_uri": "https://localhost:8080/",
     "height": 265
    },
    "executionInfo": {
     "elapsed": 1315,
     "status": "ok",
     "timestamp": 1619005030948,
     "user": {
      "displayName": "Maciej Tarsa",
      "photoUrl": "https://lh3.googleusercontent.com/a-/AOh14GhWk0j9fFSgnb3uzugIZcEXR3uc9Ze0OcOZznFdZA4=s64",
      "userId": "17023749594418169578"
     },
     "user_tz": -60
    },
    "id": "Z1F6FrNjN7G0",
    "outputId": "bdcd5751-38fe-4017-8830-83192140daa9"
   },
   "outputs": [],
   "source": [
    "# pick a sample to plot\n",
    "sample = 1\n",
    "image = X_train[sample]\n",
    "# plot the sample\n",
    "fig = plt.figure\n",
    "plt.imshow(image, cmap='gray')\n",
    "plt.show()"
   ]
  },
  {
   "cell_type": "code",
   "execution_count": null,
   "metadata": {
    "ExecuteTime": {
     "end_time": "2021-05-23T19:27:03.135601Z",
     "start_time": "2021-05-23T19:27:02.981Z"
    },
    "colab": {
     "base_uri": "https://localhost:8080/",
     "height": 265
    },
    "executionInfo": {
     "elapsed": 936,
     "status": "ok",
     "timestamp": 1619005033945,
     "user": {
      "displayName": "Maciej Tarsa",
      "photoUrl": "https://lh3.googleusercontent.com/a-/AOh14GhWk0j9fFSgnb3uzugIZcEXR3uc9Ze0OcOZznFdZA4=s64",
      "userId": "17023749594418169578"
     },
     "user_tz": -60
    },
    "id": "b7H7wytpN9D7",
    "outputId": "7d59cd70-c27e-488c-8ee9-22a35f1f84d7"
   },
   "outputs": [],
   "source": [
    "# plot the sample\n",
    "fig = plt.figure\n",
    "plt.imshow(image, cmap='gray_r')\n",
    "plt.show()"
   ]
  },
  {
   "cell_type": "code",
   "execution_count": null,
   "metadata": {
    "ExecuteTime": {
     "end_time": "2021-05-23T19:27:03.137346Z",
     "start_time": "2021-05-23T19:27:02.982Z"
    },
    "colab": {
     "base_uri": "https://localhost:8080/"
    },
    "executionInfo": {
     "elapsed": 981,
     "status": "ok",
     "timestamp": 1619005290380,
     "user": {
      "displayName": "Maciej Tarsa",
      "photoUrl": "https://lh3.googleusercontent.com/a-/AOh14GhWk0j9fFSgnb3uzugIZcEXR3uc9Ze0OcOZznFdZA4=s64",
      "userId": "17023749594418169578"
     },
     "user_tz": -60
    },
    "id": "Rz9BOWv0N_vA",
    "outputId": "6820ad3c-8624-44e4-defe-9a8585947bb0"
   },
   "outputs": [],
   "source": [
    "num = 10\n",
    "images = X_train[472:482]\n",
    "labels = Y_train[472:482]\n",
    "labels"
   ]
  },
  {
   "cell_type": "code",
   "execution_count": null,
   "metadata": {
    "ExecuteTime": {
     "end_time": "2021-05-23T19:27:03.139180Z",
     "start_time": "2021-05-23T19:27:02.984Z"
    },
    "colab": {
     "base_uri": "https://localhost:8080/",
     "height": 278
    },
    "executionInfo": {
     "elapsed": 2629,
     "status": "ok",
     "timestamp": 1619005305256,
     "user": {
      "displayName": "Maciej Tarsa",
      "photoUrl": "https://lh3.googleusercontent.com/a-/AOh14GhWk0j9fFSgnb3uzugIZcEXR3uc9Ze0OcOZznFdZA4=s64",
      "userId": "17023749594418169578"
     },
     "user_tz": -60
    },
    "id": "pBjw_VNKOByY",
    "outputId": "5b6bf987-3ccf-4442-874f-99eef70c2ce5"
   },
   "outputs": [],
   "source": [
    "num_row = 6\n",
    "num_col = 8\n",
    "# plot images\n",
    "fig, axes = plt.subplots(num_row, num_col, figsize=(1.5*num_col,2*num_row))\n",
    "for i in range(10):\n",
    "    ax = axes[i//num_col, i%num_col]\n",
    "    ax.imshow(images[i], cmap='gray')\n",
    "    ax.set_title('Label: {}'.format(labels[i]))\n",
    "plt.tight_layout()\n",
    "plt.savefig('MNIST_example.png')\n",
    "plt.show()\n"
   ]
  },
  {
   "cell_type": "markdown",
   "metadata": {
    "id": "hBPzJy4EQn9W"
   },
   "source": [
    "## CIFAR-10"
   ]
  },
  {
   "cell_type": "markdown",
   "metadata": {
    "id": "ov2EEhuwNXkN"
   },
   "source": [
    "Download CIFAR-10, extract some examples, save"
   ]
  },
  {
   "cell_type": "code",
   "execution_count": null,
   "metadata": {
    "ExecuteTime": {
     "end_time": "2021-05-23T19:27:03.141229Z",
     "start_time": "2021-05-23T19:27:02.985Z"
    },
    "colab": {
     "base_uri": "https://localhost:8080/"
    },
    "executionInfo": {
     "elapsed": 15072,
     "status": "ok",
     "timestamp": 1619008229409,
     "user": {
      "displayName": "Maciej Tarsa",
      "photoUrl": "https://lh3.googleusercontent.com/a-/AOh14GhWk0j9fFSgnb3uzugIZcEXR3uc9Ze0OcOZznFdZA4=s64",
      "userId": "17023749594418169578"
     },
     "user_tz": -60
    },
    "id": "gFgFpAg0aI8n",
    "outputId": "db5e1651-2aba-463c-efb9-ba8da0eb0efc"
   },
   "outputs": [],
   "source": [
    "from tensorflow.keras.datasets import cifar10\n",
    "(X_train, Y_train), (X_test, Y_test) = cifar10.load_data()"
   ]
  },
  {
   "cell_type": "code",
   "execution_count": null,
   "metadata": {
    "ExecuteTime": {
     "end_time": "2021-05-23T19:27:03.143234Z",
     "start_time": "2021-05-23T19:27:02.986Z"
    },
    "colab": {
     "base_uri": "https://localhost:8080/",
     "height": 266
    },
    "executionInfo": {
     "elapsed": 714,
     "status": "ok",
     "timestamp": 1619008231592,
     "user": {
      "displayName": "Maciej Tarsa",
      "photoUrl": "https://lh3.googleusercontent.com/a-/AOh14GhWk0j9fFSgnb3uzugIZcEXR3uc9Ze0OcOZznFdZA4=s64",
      "userId": "17023749594418169578"
     },
     "user_tz": -60
    },
    "id": "xzvJURcWaQhQ",
    "outputId": "e836742f-7071-48be-e24a-cb9f2551c739"
   },
   "outputs": [],
   "source": [
    "# pick a sample to plot\n",
    "sample = 1\n",
    "image = X_train[sample]\n",
    "# plot the sample\n",
    "fig = plt.figure\n",
    "plt.imshow(image, cmap='gray')\n",
    "plt.show()"
   ]
  },
  {
   "cell_type": "code",
   "execution_count": null,
   "metadata": {
    "ExecuteTime": {
     "end_time": "2021-05-23T19:27:03.145226Z",
     "start_time": "2021-05-23T19:27:02.989Z"
    },
    "executionInfo": {
     "elapsed": 878,
     "status": "ok",
     "timestamp": 1619008562212,
     "user": {
      "displayName": "Maciej Tarsa",
      "photoUrl": "https://lh3.googleusercontent.com/a-/AOh14GhWk0j9fFSgnb3uzugIZcEXR3uc9Ze0OcOZznFdZA4=s64",
      "userId": "17023749594418169578"
     },
     "user_tz": -60
    },
    "id": "GHQsDGgha9sh"
   },
   "outputs": [],
   "source": [
    "labels_word = ['airplane', 'automobile', 'bird', 'cat', 'deer',\n",
    "               'dog', 'frog', 'horse', 'ship', 'truck']"
   ]
  },
  {
   "cell_type": "code",
   "execution_count": null,
   "metadata": {
    "ExecuteTime": {
     "end_time": "2021-05-23T19:27:03.147156Z",
     "start_time": "2021-05-23T19:27:02.990Z"
    },
    "colab": {
     "base_uri": "https://localhost:8080/"
    },
    "executionInfo": {
     "elapsed": 987,
     "status": "ok",
     "timestamp": 1619008254547,
     "user": {
      "displayName": "Maciej Tarsa",
      "photoUrl": "https://lh3.googleusercontent.com/a-/AOh14GhWk0j9fFSgnb3uzugIZcEXR3uc9Ze0OcOZznFdZA4=s64",
      "userId": "17023749594418169578"
     },
     "user_tz": -60
    },
    "id": "VA5ePhHsaWGa",
    "outputId": "631113f4-6647-494a-a28d-c7c87497f755"
   },
   "outputs": [],
   "source": [
    "num = 10\n",
    "images = X_train[472:482]\n",
    "labels = Y_train[472:482]\n",
    "labels"
   ]
  },
  {
   "cell_type": "code",
   "execution_count": null,
   "metadata": {
    "ExecuteTime": {
     "end_time": "2021-05-23T19:27:03.148905Z",
     "start_time": "2021-05-23T19:27:02.995Z"
    },
    "colab": {
     "base_uri": "https://localhost:8080/"
    },
    "executionInfo": {
     "elapsed": 886,
     "status": "ok",
     "timestamp": 1619008606760,
     "user": {
      "displayName": "Maciej Tarsa",
      "photoUrl": "https://lh3.googleusercontent.com/a-/AOh14GhWk0j9fFSgnb3uzugIZcEXR3uc9Ze0OcOZznFdZA4=s64",
      "userId": "17023749594418169578"
     },
     "user_tz": -60
    },
    "id": "jO9On4OlbPQ6",
    "outputId": "4676d5be-7f80-4039-fbc6-ffef226a33f5"
   },
   "outputs": [],
   "source": [
    "new_labels = []\n",
    "for label in labels:\n",
    "  new_labels.append(labels_word[int(label)])\n",
    "new_labels = np.array(new_labels)\n",
    "print(new_labels)\n"
   ]
  },
  {
   "cell_type": "code",
   "execution_count": null,
   "metadata": {
    "id": "v1bo5BU1bLYY"
   },
   "outputs": [],
   "source": []
  },
  {
   "cell_type": "code",
   "execution_count": 1,
   "metadata": {
    "ExecuteTime": {
     "end_time": "2021-05-23T19:27:07.997153Z",
     "start_time": "2021-05-23T19:27:07.986725Z"
    },
    "colab": {
     "base_uri": "https://localhost:8080/",
     "height": 275
    },
    "executionInfo": {
     "elapsed": 2665,
     "status": "ok",
     "timestamp": 1619008619056,
     "user": {
      "displayName": "Maciej Tarsa",
      "photoUrl": "https://lh3.googleusercontent.com/a-/AOh14GhWk0j9fFSgnb3uzugIZcEXR3uc9Ze0OcOZznFdZA4=s64",
      "userId": "17023749594418169578"
     },
     "user_tz": -60
    },
    "id": "RVWANb_BaWNc",
    "outputId": "d90f0783-67b0-44dd-e0ec-11fd26a5016d"
   },
   "outputs": [
    {
     "ename": "NameError",
     "evalue": "name 'plt' is not defined",
     "output_type": "error",
     "traceback": [
      "\u001b[0;31m---------------------------------------------------------------------------\u001b[0m",
      "\u001b[0;31mNameError\u001b[0m                                 Traceback (most recent call last)",
      "\u001b[0;32m<ipython-input-1-03c90bc5230c>\u001b[0m in \u001b[0;36m<module>\u001b[0;34m\u001b[0m\n\u001b[1;32m      2\u001b[0m \u001b[0mnum_col\u001b[0m \u001b[0;34m=\u001b[0m \u001b[0;36m8\u001b[0m\u001b[0;34m\u001b[0m\u001b[0;34m\u001b[0m\u001b[0m\n\u001b[1;32m      3\u001b[0m \u001b[0;31m# plot images\u001b[0m\u001b[0;34m\u001b[0m\u001b[0;34m\u001b[0m\u001b[0;34m\u001b[0m\u001b[0m\n\u001b[0;32m----> 4\u001b[0;31m \u001b[0mfig\u001b[0m\u001b[0;34m,\u001b[0m \u001b[0maxes\u001b[0m \u001b[0;34m=\u001b[0m \u001b[0mplt\u001b[0m\u001b[0;34m.\u001b[0m\u001b[0msubplots\u001b[0m\u001b[0;34m(\u001b[0m\u001b[0mnum_row\u001b[0m\u001b[0;34m,\u001b[0m \u001b[0mnum_col\u001b[0m\u001b[0;34m,\u001b[0m \u001b[0mfigsize\u001b[0m\u001b[0;34m=\u001b[0m\u001b[0;34m(\u001b[0m\u001b[0;36m1.5\u001b[0m\u001b[0;34m*\u001b[0m\u001b[0mnum_col\u001b[0m\u001b[0;34m,\u001b[0m\u001b[0;36m2\u001b[0m\u001b[0;34m*\u001b[0m\u001b[0mnum_row\u001b[0m\u001b[0;34m)\u001b[0m\u001b[0;34m)\u001b[0m\u001b[0;34m\u001b[0m\u001b[0;34m\u001b[0m\u001b[0m\n\u001b[0m\u001b[1;32m      5\u001b[0m \u001b[0;32mfor\u001b[0m \u001b[0mi\u001b[0m \u001b[0;32min\u001b[0m \u001b[0mrange\u001b[0m\u001b[0;34m(\u001b[0m\u001b[0;36m10\u001b[0m\u001b[0;34m)\u001b[0m\u001b[0;34m:\u001b[0m\u001b[0;34m\u001b[0m\u001b[0;34m\u001b[0m\u001b[0m\n\u001b[1;32m      6\u001b[0m     \u001b[0max\u001b[0m \u001b[0;34m=\u001b[0m \u001b[0maxes\u001b[0m\u001b[0;34m[\u001b[0m\u001b[0mi\u001b[0m\u001b[0;34m//\u001b[0m\u001b[0mnum_col\u001b[0m\u001b[0;34m,\u001b[0m \u001b[0mi\u001b[0m\u001b[0;34m%\u001b[0m\u001b[0mnum_col\u001b[0m\u001b[0;34m]\u001b[0m\u001b[0;34m\u001b[0m\u001b[0;34m\u001b[0m\u001b[0m\n",
      "\u001b[0;31mNameError\u001b[0m: name 'plt' is not defined"
     ]
    }
   ],
   "source": [
    "num_row = 6\n",
    "num_col = 8\n",
    "# plot images\n",
    "fig, axes = plt.subplots(num_row, num_col, figsize=(1.5*num_col,2*num_row))\n",
    "for i in range(10):\n",
    "    ax = axes[i//num_col, i%num_col]\n",
    "    ax.imshow(images[i], cmap='gray')\n",
    "    ax.set_title('Label: {}'.format(new_labels[i]))\n",
    "plt.tight_layout()\n",
    "plt.savefig('CIFAR10_example.png')\n",
    "plt.show()"
   ]
  },
  {
   "cell_type": "code",
   "execution_count": null,
   "metadata": {},
   "outputs": [],
   "source": []
  }
 ],
 "metadata": {
  "colab": {
   "authorship_tag": "ABX9TyN9ijjx4sYYOsRBjqUv1oGp",
   "collapsed_sections": [],
   "name": "Dataset examples.ipynb",
   "provenance": []
  },
  "kernelspec": {
   "display_name": "Python 3",
   "language": "python",
   "name": "python3"
  },
  "language_info": {
   "codemirror_mode": {
    "name": "ipython",
    "version": 3
   },
   "file_extension": ".py",
   "mimetype": "text/x-python",
   "name": "python",
   "nbconvert_exporter": "python",
   "pygments_lexer": "ipython3",
   "version": "3.7.9"
  },
  "toc": {
   "base_numbering": 1,
   "nav_menu": {},
   "number_sections": true,
   "sideBar": true,
   "skip_h1_title": false,
   "title_cell": "Table of Contents",
   "title_sidebar": "Contents",
   "toc_cell": false,
   "toc_position": {},
   "toc_section_display": true,
   "toc_window_display": false
  },
  "varInspector": {
   "cols": {
    "lenName": 16,
    "lenType": 16,
    "lenVar": 40
   },
   "kernels_config": {
    "python": {
     "delete_cmd_postfix": "",
     "delete_cmd_prefix": "del ",
     "library": "var_list.py",
     "varRefreshCmd": "print(var_dic_list())"
    },
    "r": {
     "delete_cmd_postfix": ") ",
     "delete_cmd_prefix": "rm(",
     "library": "var_list.r",
     "varRefreshCmd": "cat(var_dic_list()) "
    }
   },
   "types_to_exclude": [
    "module",
    "function",
    "builtin_function_or_method",
    "instance",
    "_Feature"
   ],
   "window_display": false
  }
 },
 "nbformat": 4,
 "nbformat_minor": 1
}
