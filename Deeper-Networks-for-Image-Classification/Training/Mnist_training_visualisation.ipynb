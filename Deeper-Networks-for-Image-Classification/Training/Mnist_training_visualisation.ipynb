{
 "cells": [
  {
   "cell_type": "code",
   "execution_count": 1,
   "metadata": {
    "executionInfo": {
     "elapsed": 2526,
     "status": "ok",
     "timestamp": 1619616384713,
     "user": {
      "displayName": "Maciej Tarsa",
      "photoUrl": "https://lh3.googleusercontent.com/a-/AOh14GhWk0j9fFSgnb3uzugIZcEXR3uc9Ze0OcOZznFdZA4=s64",
      "userId": "17023749594418169578"
     },
     "user_tz": -60
    },
    "id": "LvFc11c_QoRB"
   },
   "outputs": [],
   "source": [
    "import pandas as pd\n",
    "import matplotlib.pyplot as plt"
   ]
  },
  {
   "cell_type": "code",
   "execution_count": 2,
   "metadata": {
    "executionInfo": {
     "elapsed": 815,
     "status": "ok",
     "timestamp": 1619616411194,
     "user": {
      "displayName": "Maciej Tarsa",
      "photoUrl": "https://lh3.googleusercontent.com/a-/AOh14GhWk0j9fFSgnb3uzugIZcEXR3uc9Ze0OcOZznFdZA4=s64",
      "userId": "17023749594418169578"
     },
     "user_tz": -60
    },
    "id": "jS7tR7NdRRA8"
   },
   "outputs": [],
   "source": [
    "# import all 3 spreadsheets\n",
    "df_GoogLeNet = pd.read_csv('./MG_3.csv')\n",
    "df_ResNet18 = pd.read_csv('./MR_8.csv')\n",
    "df_VGG16 = pd.read_csv('./MV_5.csv')\n"
   ]
  },
  {
   "cell_type": "code",
   "execution_count": 11,
   "metadata": {
    "colab": {
     "base_uri": "https://localhost:8080/",
     "height": 669
    },
    "executionInfo": {
     "elapsed": 548,
     "status": "ok",
     "timestamp": 1619617255826,
     "user": {
      "displayName": "Maciej Tarsa",
      "photoUrl": "https://lh3.googleusercontent.com/a-/AOh14GhWk0j9fFSgnb3uzugIZcEXR3uc9Ze0OcOZznFdZA4=s64",
      "userId": "17023749594418169578"
     },
     "user_tz": -60
    },
    "id": "-z20gvVQRnnf",
    "outputId": "a48a3e2d-a74b-4746-bc20-66047c00316d"
   },
   "outputs": [
    {
     "data": {
      "text/html": [
       "<div>\n",
       "<style scoped>\n",
       "    .dataframe tbody tr th:only-of-type {\n",
       "        vertical-align: middle;\n",
       "    }\n",
       "\n",
       "    .dataframe tbody tr th {\n",
       "        vertical-align: top;\n",
       "    }\n",
       "\n",
       "    .dataframe thead th {\n",
       "        text-align: right;\n",
       "    }\n",
       "</style>\n",
       "<table border=\"1\" class=\"dataframe\">\n",
       "  <thead>\n",
       "    <tr style=\"text-align: right;\">\n",
       "      <th></th>\n",
       "      <th>Data</th>\n",
       "      <th>Model</th>\n",
       "      <th>Epoch</th>\n",
       "      <th>Training loss</th>\n",
       "      <th>Validation loss</th>\n",
       "      <th>Accuracy</th>\n",
       "      <th>Time_per_epoch</th>\n",
       "    </tr>\n",
       "  </thead>\n",
       "  <tbody>\n",
       "    <tr>\n",
       "      <th>0</th>\n",
       "      <td>MNIST</td>\n",
       "      <td>ResNet18</td>\n",
       "      <td>1</td>\n",
       "      <td>0.578333</td>\n",
       "      <td>0.113483</td>\n",
       "      <td>0.974920</td>\n",
       "      <td>2.410436</td>\n",
       "    </tr>\n",
       "    <tr>\n",
       "      <th>1</th>\n",
       "      <td>MNIST</td>\n",
       "      <td>ResNet18</td>\n",
       "      <td>2</td>\n",
       "      <td>0.091267</td>\n",
       "      <td>0.063735</td>\n",
       "      <td>0.982882</td>\n",
       "      <td>2.396293</td>\n",
       "    </tr>\n",
       "    <tr>\n",
       "      <th>2</th>\n",
       "      <td>MNIST</td>\n",
       "      <td>ResNet18</td>\n",
       "      <td>3</td>\n",
       "      <td>0.053678</td>\n",
       "      <td>0.047697</td>\n",
       "      <td>0.987062</td>\n",
       "      <td>2.397208</td>\n",
       "    </tr>\n",
       "    <tr>\n",
       "      <th>3</th>\n",
       "      <td>MNIST</td>\n",
       "      <td>ResNet18</td>\n",
       "      <td>4</td>\n",
       "      <td>0.035872</td>\n",
       "      <td>0.036498</td>\n",
       "      <td>0.988654</td>\n",
       "      <td>2.390639</td>\n",
       "    </tr>\n",
       "    <tr>\n",
       "      <th>4</th>\n",
       "      <td>MNIST</td>\n",
       "      <td>ResNet18</td>\n",
       "      <td>5</td>\n",
       "      <td>0.024625</td>\n",
       "      <td>0.035782</td>\n",
       "      <td>0.989749</td>\n",
       "      <td>2.386967</td>\n",
       "    </tr>\n",
       "    <tr>\n",
       "      <th>5</th>\n",
       "      <td>MNIST</td>\n",
       "      <td>ResNet18</td>\n",
       "      <td>6</td>\n",
       "      <td>0.017630</td>\n",
       "      <td>0.030265</td>\n",
       "      <td>0.990446</td>\n",
       "      <td>2.390846</td>\n",
       "    </tr>\n",
       "    <tr>\n",
       "      <th>6</th>\n",
       "      <td>MNIST</td>\n",
       "      <td>ResNet18</td>\n",
       "      <td>7</td>\n",
       "      <td>0.012324</td>\n",
       "      <td>0.032562</td>\n",
       "      <td>0.990446</td>\n",
       "      <td>2.394898</td>\n",
       "    </tr>\n",
       "    <tr>\n",
       "      <th>7</th>\n",
       "      <td>MNIST</td>\n",
       "      <td>ResNet18</td>\n",
       "      <td>8</td>\n",
       "      <td>0.008077</td>\n",
       "      <td>0.026420</td>\n",
       "      <td>0.990645</td>\n",
       "      <td>2.380907</td>\n",
       "    </tr>\n",
       "    <tr>\n",
       "      <th>8</th>\n",
       "      <td>MNIST</td>\n",
       "      <td>ResNet18</td>\n",
       "      <td>9</td>\n",
       "      <td>0.006637</td>\n",
       "      <td>0.028623</td>\n",
       "      <td>0.991242</td>\n",
       "      <td>2.400333</td>\n",
       "    </tr>\n",
       "    <tr>\n",
       "      <th>9</th>\n",
       "      <td>MNIST</td>\n",
       "      <td>ResNet18</td>\n",
       "      <td>10</td>\n",
       "      <td>0.004545</td>\n",
       "      <td>0.025135</td>\n",
       "      <td>0.991342</td>\n",
       "      <td>2.394933</td>\n",
       "    </tr>\n",
       "    <tr>\n",
       "      <th>10</th>\n",
       "      <td>MNIST</td>\n",
       "      <td>ResNet18</td>\n",
       "      <td>11</td>\n",
       "      <td>0.002932</td>\n",
       "      <td>0.024572</td>\n",
       "      <td>0.991441</td>\n",
       "      <td>2.392412</td>\n",
       "    </tr>\n",
       "    <tr>\n",
       "      <th>11</th>\n",
       "      <td>MNIST</td>\n",
       "      <td>ResNet18</td>\n",
       "      <td>12</td>\n",
       "      <td>0.002752</td>\n",
       "      <td>0.027657</td>\n",
       "      <td>0.989849</td>\n",
       "      <td>2.396131</td>\n",
       "    </tr>\n",
       "    <tr>\n",
       "      <th>12</th>\n",
       "      <td>MNIST</td>\n",
       "      <td>ResNet18</td>\n",
       "      <td>13</td>\n",
       "      <td>0.002475</td>\n",
       "      <td>0.023906</td>\n",
       "      <td>0.991740</td>\n",
       "      <td>2.389791</td>\n",
       "    </tr>\n",
       "    <tr>\n",
       "      <th>13</th>\n",
       "      <td>MNIST</td>\n",
       "      <td>ResNet18</td>\n",
       "      <td>14</td>\n",
       "      <td>0.001249</td>\n",
       "      <td>0.024869</td>\n",
       "      <td>0.991541</td>\n",
       "      <td>2.396126</td>\n",
       "    </tr>\n",
       "    <tr>\n",
       "      <th>14</th>\n",
       "      <td>MNIST</td>\n",
       "      <td>ResNet18</td>\n",
       "      <td>15</td>\n",
       "      <td>0.002381</td>\n",
       "      <td>0.025333</td>\n",
       "      <td>0.991541</td>\n",
       "      <td>2.393025</td>\n",
       "    </tr>\n",
       "    <tr>\n",
       "      <th>15</th>\n",
       "      <td>MNIST</td>\n",
       "      <td>ResNet18</td>\n",
       "      <td>16</td>\n",
       "      <td>0.001335</td>\n",
       "      <td>0.025006</td>\n",
       "      <td>0.992138</td>\n",
       "      <td>2.396850</td>\n",
       "    </tr>\n",
       "    <tr>\n",
       "      <th>16</th>\n",
       "      <td>MNIST</td>\n",
       "      <td>ResNet18</td>\n",
       "      <td>17</td>\n",
       "      <td>0.000970</td>\n",
       "      <td>0.023832</td>\n",
       "      <td>0.992337</td>\n",
       "      <td>2.404259</td>\n",
       "    </tr>\n",
       "    <tr>\n",
       "      <th>17</th>\n",
       "      <td>MNIST</td>\n",
       "      <td>ResNet18</td>\n",
       "      <td>18</td>\n",
       "      <td>0.001182</td>\n",
       "      <td>0.024076</td>\n",
       "      <td>0.992635</td>\n",
       "      <td>2.398771</td>\n",
       "    </tr>\n",
       "    <tr>\n",
       "      <th>18</th>\n",
       "      <td>MNIST</td>\n",
       "      <td>ResNet18</td>\n",
       "      <td>19</td>\n",
       "      <td>0.001922</td>\n",
       "      <td>0.023349</td>\n",
       "      <td>0.992834</td>\n",
       "      <td>2.401956</td>\n",
       "    </tr>\n",
       "    <tr>\n",
       "      <th>19</th>\n",
       "      <td>MNIST</td>\n",
       "      <td>ResNet18</td>\n",
       "      <td>20</td>\n",
       "      <td>0.000659</td>\n",
       "      <td>0.022500</td>\n",
       "      <td>0.993133</td>\n",
       "      <td>2.398826</td>\n",
       "    </tr>\n",
       "  </tbody>\n",
       "</table>\n",
       "</div>"
      ],
      "text/plain": [
       "     Data     Model  Epoch  ...  Validation loss  Accuracy  Time_per_epoch\n",
       "0   MNIST  ResNet18      1  ...         0.113483  0.974920        2.410436\n",
       "1   MNIST  ResNet18      2  ...         0.063735  0.982882        2.396293\n",
       "2   MNIST  ResNet18      3  ...         0.047697  0.987062        2.397208\n",
       "3   MNIST  ResNet18      4  ...         0.036498  0.988654        2.390639\n",
       "4   MNIST  ResNet18      5  ...         0.035782  0.989749        2.386967\n",
       "5   MNIST  ResNet18      6  ...         0.030265  0.990446        2.390846\n",
       "6   MNIST  ResNet18      7  ...         0.032562  0.990446        2.394898\n",
       "7   MNIST  ResNet18      8  ...         0.026420  0.990645        2.380907\n",
       "8   MNIST  ResNet18      9  ...         0.028623  0.991242        2.400333\n",
       "9   MNIST  ResNet18     10  ...         0.025135  0.991342        2.394933\n",
       "10  MNIST  ResNet18     11  ...         0.024572  0.991441        2.392412\n",
       "11  MNIST  ResNet18     12  ...         0.027657  0.989849        2.396131\n",
       "12  MNIST  ResNet18     13  ...         0.023906  0.991740        2.389791\n",
       "13  MNIST  ResNet18     14  ...         0.024869  0.991541        2.396126\n",
       "14  MNIST  ResNet18     15  ...         0.025333  0.991541        2.393025\n",
       "15  MNIST  ResNet18     16  ...         0.025006  0.992138        2.396850\n",
       "16  MNIST  ResNet18     17  ...         0.023832  0.992337        2.404259\n",
       "17  MNIST  ResNet18     18  ...         0.024076  0.992635        2.398771\n",
       "18  MNIST  ResNet18     19  ...         0.023349  0.992834        2.401956\n",
       "19  MNIST  ResNet18     20  ...         0.022500  0.993133        2.398826\n",
       "\n",
       "[20 rows x 7 columns]"
      ]
     },
     "execution_count": 11,
     "metadata": {
      "tags": []
     },
     "output_type": "execute_result"
    }
   ],
   "source": [
    "df_ResNet18"
   ]
  },
  {
   "cell_type": "code",
   "execution_count": 5,
   "metadata": {
    "colab": {
     "base_uri": "https://localhost:8080/",
     "height": 313
    },
    "executionInfo": {
     "elapsed": 1112,
     "status": "ok",
     "timestamp": 1619616454174,
     "user": {
      "displayName": "Maciej Tarsa",
      "photoUrl": "https://lh3.googleusercontent.com/a-/AOh14GhWk0j9fFSgnb3uzugIZcEXR3uc9Ze0OcOZznFdZA4=s64",
      "userId": "17023749594418169578"
     },
     "user_tz": -60
    },
    "id": "nhJVs1boPqR-",
    "outputId": "81497343-3bf1-4a87-c929-4174acfdee21"
   },
   "outputs": [
    {
     "data": {
      "image/png": "[encoded data removed]",
      "text/plain": [
       "<Figure size 432x288 with 1 Axes>"
      ]
     },
     "metadata": {
      "needs_background": "light",
      "tags": []
     },
     "output_type": "display_data"
    }
   ],
   "source": [
    "plt.plot(df_VGG16['Epoch'], df_VGG16['Training loss'], label = \"Training Loss\")\n",
    "plt.plot(df_VGG16['Epoch'], df_VGG16['Validation loss'], label = \"Validation loss\")\n",
    "plt.xticks(df_VGG16['Epoch'])\n",
    "plt.xlabel('Iteration')\n",
    "plt.ylabel('Loss')\n",
    "plt.legend(loc=1)\n",
    "plt.grid(True)\n",
    "plt.tight_layout()\n",
    "plt.title('Training and validation loss of VGG-16 on MNIST')\n",
    "plt.savefig('Mnist_VGG16_Train.png', bbox_inches='tight')\n",
    "plt.show()"
   ]
  },
  {
   "cell_type": "code",
   "execution_count": 6,
   "metadata": {
    "colab": {
     "base_uri": "https://localhost:8080/",
     "height": 313
    },
    "executionInfo": {
     "elapsed": 1043,
     "status": "ok",
     "timestamp": 1619616460320,
     "user": {
      "displayName": "Maciej Tarsa",
      "photoUrl": "https://lh3.googleusercontent.com/a-/AOh14GhWk0j9fFSgnb3uzugIZcEXR3uc9Ze0OcOZznFdZA4=s64",
      "userId": "17023749594418169578"
     },
     "user_tz": -60
    },
    "id": "Hs1JWOgWQLva",
    "outputId": "d8acebce-74be-4eeb-c20f-e4e7ce338448"
   },
   "outputs": [
    {
     "data": {
      "image/png": "[encoded data removed]",
      "text/plain": [
       "<Figure size 432x288 with 1 Axes>"
      ]
     },
     "metadata": {
      "needs_background": "light",
      "tags": []
     },
     "output_type": "display_data"
    }
   ],
   "source": [
    "plt.plot(df_GoogLeNet['Epoch'], df_GoogLeNet['Training loss'], label = \"Training Loss\")\n",
    "plt.plot(df_GoogLeNet['Epoch'], df_GoogLeNet['Validation loss'], label = \"Validation loss\")\n",
    "plt.xticks(df_GoogLeNet['Epoch'])\n",
    "plt.xlabel('Iteration')\n",
    "plt.ylabel('Loss')\n",
    "plt.legend(loc=1)\n",
    "plt.grid(True)\n",
    "plt.tight_layout()\n",
    "plt.title('Training and validation loss of GoogLeNet on MNIST')\n",
    "plt.savefig('Mnist_GoogLeNet_Train.png', bbox_inches='tight')\n",
    "plt.show()"
   ]
  },
  {
   "cell_type": "code",
   "execution_count": 7,
   "metadata": {
    "colab": {
     "base_uri": "https://localhost:8080/",
     "height": 312
    },
    "executionInfo": {
     "elapsed": 1338,
     "status": "ok",
     "timestamp": 1619616470914,
     "user": {
      "displayName": "Maciej Tarsa",
      "photoUrl": "https://lh3.googleusercontent.com/a-/AOh14GhWk0j9fFSgnb3uzugIZcEXR3uc9Ze0OcOZznFdZA4=s64",
      "userId": "17023749594418169578"
     },
     "user_tz": -60
    },
    "id": "FFrakpDwQZ7-",
    "outputId": "4ac978cb-e0da-4000-cee7-3cb1ff6d2ca3"
   },
   "outputs": [
    {
     "data": {
      "image/png": "[encoded data removed]",
      "text/plain": [
       "<Figure size 432x288 with 1 Axes>"
      ]
     },
     "metadata": {
      "needs_background": "light",
      "tags": []
     },
     "output_type": "display_data"
    }
   ],
   "source": [
    "plt.plot(df_ResNet18['Epoch'], df_ResNet18['Training loss'], label = \"Training Loss\")\n",
    "plt.plot(df_ResNet18['Epoch'], df_ResNet18['Validation loss'], label = \"Validation loss\")\n",
    "plt.xticks(df_ResNet18['Epoch'])\n",
    "plt.xlabel('Iteration')\n",
    "plt.ylabel('Loss')\n",
    "plt.legend(loc=1)\n",
    "plt.grid(True)\n",
    "plt.tight_layout()\n",
    "plt.title('Training and validation loss of ResNet-18 on MNIST')\n",
    "plt.savefig('Mnist_ResNet18_Train.png', bbox_inches='tight')\n",
    "plt.show()"
   ]
  },
  {
   "cell_type": "code",
   "execution_count": 9,
   "metadata": {
    "colab": {
     "base_uri": "https://localhost:8080/",
     "height": 313
    },
    "executionInfo": {
     "elapsed": 1380,
     "status": "ok",
     "timestamp": 1619616486393,
     "user": {
      "displayName": "Maciej Tarsa",
      "photoUrl": "https://lh3.googleusercontent.com/a-/AOh14GhWk0j9fFSgnb3uzugIZcEXR3uc9Ze0OcOZznFdZA4=s64",
      "userId": "17023749594418169578"
     },
     "user_tz": -60
    },
    "id": "lnGEC-clSB8B",
    "outputId": "f386484d-3976-4a56-9a59-d394cd3700c7"
   },
   "outputs": [
    {
     "data": {
      "image/png": "[encoded data removed]",
      "text/plain": [
       "<Figure size 432x288 with 1 Axes>"
      ]
     },
     "metadata": {
      "needs_background": "light",
      "tags": []
     },
     "output_type": "display_data"
    }
   ],
   "source": [
    "\n",
    "\n",
    "\n",
    "\n",
    "plt.plot(df_VGG16['Epoch'], df_VGG16['Accuracy'], label = \"VGG-16\")\n",
    "plt.plot(df_GoogLeNet['Epoch'], df_GoogLeNet['Accuracy'], label = \"GoogLeNet\")\n",
    "plt.plot(df_ResNet18['Epoch'], df_ResNet18['Accuracy'], label = \"ResNet-18\")\n",
    "\n",
    "plt.xticks(df_ResNet18['Epoch'])\n",
    "plt.xlabel('Iteration')\n",
    "\n",
    "plt.xlabel('Epoch')\n",
    "plt.ylabel('Accuracy')\n",
    "plt.legend(loc=4)\n",
    "plt.grid(True)\n",
    "plt.tight_layout()\n",
    "plt.title('MNIST accuracies of different models')\n",
    "plt.savefig('MNIST_accuracies.png', bbox_inches='tight')\n",
    "plt.show()"
   ]
  },
  {
   "cell_type": "code",
   "execution_count": null,
   "metadata": {
    "colab": {
     "base_uri": "https://localhost:8080/",
     "height": 142
    },
    "executionInfo": {
     "elapsed": 476,
     "status": "ok",
     "timestamp": 1619273142160,
     "user": {
      "displayName": "Maciej Tarsa",
      "photoUrl": "https://lh3.googleusercontent.com/a-/AOh14GhWk0j9fFSgnb3uzugIZcEXR3uc9Ze0OcOZznFdZA4=s64",
      "userId": "17023749594418169578"
     },
     "user_tz": -60
    },
    "id": "QBr7WaeJTAD5",
    "outputId": "eb998d13-fed3-460e-e654-148216e14e2b"
   },
   "outputs": [
    {
     "data": {
      "text/html": [
       "<div>\n",
       "<style scoped>\n",
       "    .dataframe tbody tr th:only-of-type {\n",
       "        vertical-align: middle;\n",
       "    }\n",
       "\n",
       "    .dataframe tbody tr th {\n",
       "        vertical-align: top;\n",
       "    }\n",
       "\n",
       "    .dataframe thead th {\n",
       "        text-align: right;\n",
       "    }\n",
       "</style>\n",
       "<table border=\"1\" class=\"dataframe\">\n",
       "  <thead>\n",
       "    <tr style=\"text-align: right;\">\n",
       "      <th></th>\n",
       "      <th>Model</th>\n",
       "      <th>Time_per_epoch</th>\n",
       "    </tr>\n",
       "  </thead>\n",
       "  <tbody>\n",
       "    <tr>\n",
       "      <th>0</th>\n",
       "      <td>VGG-16</td>\n",
       "      <td>4.932583</td>\n",
       "    </tr>\n",
       "    <tr>\n",
       "      <th>1</th>\n",
       "      <td>GoogLeNet</td>\n",
       "      <td>2.763633</td>\n",
       "    </tr>\n",
       "    <tr>\n",
       "      <th>2</th>\n",
       "      <td>ResNet-18</td>\n",
       "      <td>2.176334</td>\n",
       "    </tr>\n",
       "  </tbody>\n",
       "</table>\n",
       "</div>"
      ],
      "text/plain": [
       "       Model  Time_per_epoch\n",
       "0     VGG-16        4.932583\n",
       "1  GoogLeNet        2.763633\n",
       "2  ResNet-18        2.176334"
      ]
     },
     "execution_count": 7,
     "metadata": {
      "tags": []
     },
     "output_type": "execute_result"
    }
   ],
   "source": [
    "d = {'Model': ['VGG-16', 'GoogLeNet', 'ResNet-18'], \n",
    "         'Time_per_epoch': [df_VGG16['Time_per_epoch'].mean(), \n",
    "                            df_GoogLeNet['Time_per_epoch'].mean(),\n",
    "                            df_ResNet18['Time_per_epoch'].mean()]}\n",
    "df = pd.DataFrame(data=d)\n",
    "df"
   ]
  },
  {
   "cell_type": "code",
   "execution_count": null,
   "metadata": {
    "colab": {
     "base_uri": "https://localhost:8080/",
     "height": 352
    },
    "executionInfo": {
     "elapsed": 825,
     "status": "ok",
     "timestamp": 1619273189308,
     "user": {
      "displayName": "Maciej Tarsa",
      "photoUrl": "https://lh3.googleusercontent.com/a-/AOh14GhWk0j9fFSgnb3uzugIZcEXR3uc9Ze0OcOZznFdZA4=s64",
      "userId": "17023749594418169578"
     },
     "user_tz": -60
    },
    "id": "EFnAATWNVHfR",
    "outputId": "f1ca68e1-2287-4c48-a4c0-7f324d51774e"
   },
   "outputs": [
    {
     "data": {
      "image/png": "[encoded data removed]",
      "text/plain": [
       "<Figure size 432x288 with 1 Axes>"
      ]
     },
     "metadata": {
      "needs_background": "light",
      "tags": []
     },
     "output_type": "display_data"
    }
   ],
   "source": [
    "fig = plt.figure()\n",
    "ax = fig.add_axes([0,0,1,1])\n",
    "ax.bar(df['Model'],df['Time_per_epoch'], color=['C0', 'C1', 'C2'], width=0.4)\n",
    "plt.ylabel('Training time in minutes')\n",
    "plt.title('Average training time per epoch for each model on MNIST')\n",
    "plt.savefig('MNIST_training_time.png', bbox_inches='tight')\n",
    "plt.show()"
   ]
  }
 ],
 "metadata": {
  "colab": {
   "authorship_tag": "ABX9TyPl4zOORvZ20iMFYYBzaQ7t",
   "collapsed_sections": [],
   "name": "Mnist_training_visualisation.ipynb",
   "provenance": []
  },
  "kernelspec": {
   "display_name": "Python 3",
   "language": "python",
   "name": "python3"
  },
  "toc": {
   "base_numbering": 1,
   "nav_menu": {},
   "number_sections": true,
   "sideBar": true,
   "skip_h1_title": false,
   "title_cell": "Table of Contents",
   "title_sidebar": "Contents",
   "toc_cell": false,
   "toc_position": {},
   "toc_section_display": true,
   "toc_window_display": false
  },
  "varInspector": {
   "cols": {
    "lenName": 16,
    "lenType": 16,
    "lenVar": 40
   },
   "kernels_config": {
    "python": {
     "delete_cmd_postfix": "",
     "delete_cmd_prefix": "del ",
     "library": "var_list.py",
     "varRefreshCmd": "print(var_dic_list())"
    },
    "r": {
     "delete_cmd_postfix": ") ",
     "delete_cmd_prefix": "rm(",
     "library": "var_list.r",
     "varRefreshCmd": "cat(var_dic_list()) "
    }
   },
   "types_to_exclude": [
    "module",
    "function",
    "builtin_function_or_method",
    "instance",
    "_Feature"
   ],
   "window_display": false
  }
 },
 "nbformat": 4,
 "nbformat_minor": 1
}
